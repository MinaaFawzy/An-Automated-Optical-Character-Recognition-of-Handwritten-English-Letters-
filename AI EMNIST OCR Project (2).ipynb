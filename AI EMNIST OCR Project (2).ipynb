{
 "cells": [
  {
   "cell_type": "code",
   "execution_count": 2,
   "metadata": {},
   "outputs": [],
   "source": [
    "import numpy as np\n",
    "from tensorflow import keras\n",
    "from tensorflow.keras.models import Sequential\n",
    "from tensorflow.keras.layers import Dense\n",
    "from tensorflow.keras.callbacks import EarlyStopping, ModelCheckpoint\n",
    "from matplotlib import pyplot as plt\n"
   ]
  },
  {
   "cell_type": "code",
   "execution_count": 3,
   "metadata": {},
   "outputs": [],
   "source": [
    "%matplotlib inline"
   ]
  },
  {
   "cell_type": "markdown",
   "metadata": {},
   "source": [
    "### Parameters needed"
   ]
  },
  {
   "cell_type": "code",
   "execution_count": 4,
   "metadata": {},
   "outputs": [],
   "source": [
    "train_ds = \"emnist-letters-train.csv\"\n",
    "test_ds = \"emnist-letters-test.csv\"\n",
    "categories = 37\n",
    "labels = 'ABCDEFGHIJKLMNOPQRSTUVWXYZabdefghnqrt'"
   ]
  },
  {
   "cell_type": "markdown",
   "metadata": {},
   "source": [
    "### Preparing Train Data & Normalization"
   ]
  },
  {
   "cell_type": "code",
   "execution_count": 5,
   "metadata": {},
   "outputs": [],
   "source": [
    "def Prep_raw_data(raw):\n",
    "    y_raw = raw[:, 0]\n",
    "    y_train = keras.utils.to_categorical(y_raw, categories)\n",
    "\n",
    "\n",
    "    x_train = raw[:, 1:]\n",
    "    img_in_set = raw.shape[0]\n",
    "    x_train /= 255\n",
    "    return x_train, y_train"
   ]
  },
  {
   "cell_type": "markdown",
   "metadata": {},
   "source": [
    "### Convert from One_hot encoding  to real values"
   ]
  },
  {
   "cell_type": "code",
   "execution_count": 6,
   "metadata": {},
   "outputs": [],
   "source": [
    "def Decode_label(binary_encoded_label):\n",
    "    return np.argmax(binary_encoded_label)-1"
   ]
  },
  {
   "cell_type": "markdown",
   "metadata": {},
   "source": [
    "### Plot image samples"
   ]
  },
  {
   "cell_type": "code",
   "execution_count": 7,
   "metadata": {},
   "outputs": [],
   "source": [
    "def Plot_img(img, label, indx):\n",
    "    flip = np.transpose(img, axes=[1,0])\n",
    "    plt.title('Label : ' + str(labels[Decode_label(label)]))\n",
    "    plt.imshow(flip, cmap='gray')"
   ]
  },
  {
   "cell_type": "markdown",
   "metadata": {},
   "source": [
    "### Testing and Evaluating"
   ]
  },
  {
   "cell_type": "code",
   "execution_count": 8,
   "metadata": {},
   "outputs": [],
   "source": [
    "def Testing(model,X_test,Y_test):\n",
    "    test_res = model.evaluate(X_test, Y_test)\n",
    "    print(\"Accuracy of the model: \",test_res[1])\n",
    "    return test_res"
   ]
  },
  {
   "cell_type": "markdown",
   "metadata": {},
   "source": [
    "### Load training data"
   ]
  },
  {
   "cell_type": "code",
   "execution_count": 9,
   "metadata": {},
   "outputs": [],
   "source": [
    "Train = np.loadtxt(train_ds, skiprows=1, delimiter=',')\n",
    "X_train, y_train_orig = Prep_raw_data(Train)"
   ]
  },
  {
   "cell_type": "code",
   "execution_count": 10,
   "metadata": {},
   "outputs": [],
   "source": [
    "Y_train = np.resize(y_train_orig, (X_train.shape[0], ))"
   ]
  },
  {
   "cell_type": "code",
   "execution_count": 11,
   "metadata": {},
   "outputs": [
    {
     "name": "stdout",
     "output_type": "stream",
     "text": [
      "(88799, 784)\n",
      "(88799,)\n"
     ]
    }
   ],
   "source": [
    "print(X_train.shape)\n",
    "print(Y_train.shape)"
   ]
  },
  {
   "cell_type": "code",
   "execution_count": 12,
   "metadata": {},
   "outputs": [
    {
     "data": {
      "text/plain": [
       "88799"
      ]
     },
     "execution_count": 12,
     "metadata": {},
     "output_type": "execute_result"
    }
   ],
   "source": [
    "len(Y_train)"
   ]
  },
  {
   "cell_type": "code",
   "execution_count": 13,
   "metadata": {},
   "outputs": [
    {
     "data": {
      "text/plain": [
       "0.0"
      ]
     },
     "execution_count": 13,
     "metadata": {},
     "output_type": "execute_result"
    }
   ],
   "source": [
    "Y_train[6]"
   ]
  },
  {
   "cell_type": "code",
   "execution_count": 14,
   "metadata": {},
   "outputs": [
    {
     "data": {
      "text/plain": [
       "-1"
      ]
     },
     "execution_count": 14,
     "metadata": {},
     "output_type": "execute_result"
    }
   ],
   "source": [
    "Decode_label(Y_train[6])"
   ]
  },
  {
   "cell_type": "markdown",
   "metadata": {},
   "source": [
    "### Visualize Train Data"
   ]
  },
  {
   "cell_type": "code",
   "execution_count": 14,
   "metadata": {},
   "outputs": [
    {
     "data": {
      "image/png": "[encoded data removed]",
      "text/plain": [
       "<Figure size 432x288 with 2 Axes>"
      ]
     },
     "metadata": {
      "needs_background": "light"
     },
     "output_type": "display_data"
    },
    {
     "name": "stdout",
     "output_type": "stream",
     "text": [
      "Label of image \"40\" = U\n"
     ]
    }
   ],
   "source": [
    "ex = 40\n",
    "image = X_train[ex]\n",
    "label = Decode_label(y_train_orig[ex])\n",
    "def fit_rotate(image):\n",
    "    image = image.reshape(28, 28)\n",
    "    image = np.fliplr(image)\n",
    "    image = np.rot90(image)\n",
    "    return image\n",
    "\n",
    "plt.imshow(fit_rotate(image), cmap= 'gray')\n",
    "plt.colorbar()\n",
    "plt.show()\n",
    "print('Label of image \"%d\" = %s' % (ex, labels[label]))"
   ]
  },
  {
   "cell_type": "code",
   "execution_count": 15,
   "metadata": {},
   "outputs": [
    {
     "data": {
      "image/png": "[encoded data removed]",
      "text/plain": [
       "<Figure size 576x324 with 8 Axes>"
      ]
     },
     "metadata": {
      "needs_background": "light"
     },
     "output_type": "display_data"
    }
   ],
   "source": [
    "fig = plt.figure(figsize=(8,4.5))\n",
    "for i in range(4):\n",
    "    fig.add_subplot(2,2,i+1)\n",
    "    plt.axis('off')\n",
    "    X_train_img = X_train.reshape(X_train.shape[0], 28, 28, 1)\n",
    "    Plot_img(np.squeeze(X_train_img[i],), y_train_orig[i], i)\n",
    "    plt.colorbar()\n",
    "plt.subplots_adjust(wspace=0.3, hspace=0.3)"
   ]
  },
  {
   "cell_type": "markdown",
   "metadata": {},
   "source": [
    "### Load testing data"
   ]
  },
  {
   "cell_type": "code",
   "execution_count": 16,
   "metadata": {},
   "outputs": [],
   "source": [
    "Test = np.loadtxt(test_ds, skiprows=1, delimiter=',')\n",
    "X_test, y_test_orig = Prep_raw_data(Test)"
   ]
  },
  {
   "cell_type": "code",
   "execution_count": 17,
   "metadata": {},
   "outputs": [],
   "source": [
    "Y_test = np.resize(y_test_orig, (X_test.shape[0], ))"
   ]
  },
  {
   "cell_type": "code",
   "execution_count": 18,
   "metadata": {},
   "outputs": [
    {
     "name": "stdout",
     "output_type": "stream",
     "text": [
      "(14799, 784)\n",
      "(14799,)\n"
     ]
    }
   ],
   "source": [
    "print(X_test.shape)\n",
    "print(Y_test.shape)"
   ]
  },
  {
   "cell_type": "code",
   "execution_count": 19,
   "metadata": {},
   "outputs": [
    {
     "data": {
      "text/plain": [
       "784"
      ]
     },
     "execution_count": 19,
     "metadata": {},
     "output_type": "execute_result"
    }
   ],
   "source": [
    "len(X_train[0])"
   ]
  },
  {
   "cell_type": "code",
   "execution_count": 20,
   "metadata": {},
   "outputs": [
    {
     "data": {
      "text/plain": [
       "88799"
      ]
     },
     "execution_count": 20,
     "metadata": {},
     "output_type": "execute_result"
    }
   ],
   "source": [
    "len(Y_train)"
   ]
  },
  {
   "cell_type": "code",
   "execution_count": 21,
   "metadata": {},
   "outputs": [
    {
     "data": {
      "text/plain": [
       "14799"
      ]
     },
     "execution_count": 21,
     "metadata": {},
     "output_type": "execute_result"
    }
   ],
   "source": [
    "X_test.shape[0]"
   ]
  },
  {
   "cell_type": "markdown",
   "metadata": {},
   "source": [
    "## Build a model"
   ]
  },
  {
   "cell_type": "code",
   "execution_count": 22,
   "metadata": {},
   "outputs": [],
   "source": [
    "# Create a more complex model\n",
    "# More layers for better accuracy\n",
    "\n",
    "def Build_model():\n",
    "    \n",
    "    input_size = len(X_train[0])\n",
    "    output_size = len(Y_train)\n",
    "    \n",
    "    model = Sequential()\n",
    "\n",
    "    model.add(Dense(240, input_dim = input_size , activation = 'relu'))\n",
    "    model.add(Dense(124, activation = 'relu'))\n",
    "    model.add(Dense(64, activation = 'relu' ))\n",
    "    model.add(Dense(output_size, activation='softmax'))\n",
    "\n",
    "    model.compile(loss=keras.losses.sparse_categorical_crossentropy,\n",
    "              optimizer='adam',\n",
    "              metrics=['accuracy'])\n",
    "    \n",
    "    return model"
   ]
  },
  {
   "cell_type": "markdown",
   "metadata": {},
   "source": [
    "### Compile & Train the model"
   ]
  },
  {
   "cell_type": "code",
   "execution_count": 23,
   "metadata": {
    "scrolled": true
   },
   "outputs": [
    {
     "name": "stdout",
     "output_type": "stream",
     "text": [
      "Train on 79919 samples, validate on 8880 samples\n",
      "Epoch 1/10\n",
      "79919/79919 [==============================] - 208s 3ms/sample - loss: 0.2690 - accuracy: 0.9714 - val_loss: 0.1394 - val_accuracy: 0.9730\n",
      "Epoch 2/10\n",
      "79919/79919 [==============================] - 201s 3ms/sample - loss: 0.1319 - accuracy: 0.9730 - val_loss: 0.1293 - val_accuracy: 0.9730\n",
      "Epoch 3/10\n",
      "79919/79919 [==============================] - 203s 3ms/sample - loss: 0.1288 - accuracy: 0.9730 - val_loss: 0.1307 - val_accuracy: 0.9730\n",
      "Epoch 4/10\n",
      "79919/79919 [==============================] - 202s 3ms/sample - loss: 0.1270 - accuracy: 0.9730 - val_loss: 0.1336 - val_accuracy: 0.9730\n",
      "Epoch 5/10\n",
      "79919/79919 [==============================] - 201s 3ms/sample - loss: 0.1248 - accuracy: 0.9730 - val_loss: 0.1269 - val_accuracy: 0.9730\n",
      "Epoch 6/10\n",
      "79919/79919 [==============================] - 202s 3ms/sample - loss: 0.1234 - accuracy: 0.9730 - val_loss: 0.1283 - val_accuracy: 0.9730\n",
      "Epoch 7/10\n",
      "79919/79919 [==============================] - 203s 3ms/sample - loss: 0.1216 - accuracy: 0.9730 - val_loss: 0.1306 - val_accuracy: 0.9730\n",
      "Epoch 8/10\n",
      "79919/79919 [==============================] - 207s 3ms/sample - loss: 0.1202 - accuracy: 0.9730 - val_loss: 0.1278 - val_accuracy: 0.9730\n",
      "Epoch 9/10\n",
      "79919/79919 [==============================] - 204s 3ms/sample - loss: 0.1185 - accuracy: 0.9730 - val_loss: 0.1283 - val_accuracy: 0.9730\n",
      "Epoch 10/10\n",
      "79919/79919 [==============================] - 204s 3ms/sample - loss: 0.1167 - accuracy: 0.9730 - val_loss: 0.1296 - val_accuracy: 0.9730\n"
     ]
    }
   ],
   "source": [
    "Model = Build_model()\n",
    "history = Model.fit(X_train, Y_train,\n",
    "          batch_size = 64,\n",
    "          epochs = 10,\n",
    "          validation_split = 0.1)"
   ]
  },
  {
   "cell_type": "markdown",
   "metadata": {},
   "source": [
    "### Cross validation & learning curves"
   ]
  },
  {
   "cell_type": "code",
   "execution_count": 24,
   "metadata": {},
   "outputs": [
    {
     "data": {
      "text/plain": [
       "[<matplotlib.lines.Line2D at 0x2ca14a24dc8>]"
      ]
     },
     "execution_count": 24,
     "metadata": {},
     "output_type": "execute_result"
    },
    {
     "data": {
      "image/png": "[encoded data removed]",
      "text/plain": [
       "<Figure size 432x288 with 1 Axes>"
      ]
     },
     "metadata": {
      "needs_background": "light"
     },
     "output_type": "display_data"
    }
   ],
   "source": [
    "# plot loss\n",
    "plt.subplot(211)\n",
    "plt.title('Cross Entropy Loss')\n",
    "plt.plot(history.history['loss'], color='red', label='train')\n",
    "plt.plot(history.history['val_loss'], color='blue', label='test')"
   ]
  },
  {
   "cell_type": "code",
   "execution_count": 25,
   "metadata": {},
   "outputs": [
    {
     "data": {
      "image/png": "[encoded data removed]",
      "text/plain": [
       "<Figure size 432x288 with 1 Axes>"
      ]
     },
     "metadata": {
      "needs_background": "light"
     },
     "output_type": "display_data"
    }
   ],
   "source": [
    "# plot accuracy\n",
    "plt.subplot(212)\n",
    "plt.title('Classification Accuracy')\n",
    "plt.plot(history.history['accuracy'], color='green', label='train')\n",
    "plt.plot(history.history['val_accuracy'], color='blue', label='test')\n",
    "plt.show()"
   ]
  },
  {
   "cell_type": "markdown",
   "metadata": {},
   "source": [
    "### Save the model"
   ]
  },
  {
   "cell_type": "code",
   "execution_count": 26,
   "metadata": {},
   "outputs": [],
   "source": [
    "import os.path\n",
    "\n",
    "if os.path.isfile('AI_EMNIST OCR.h5') is False:\n",
    "    Model.save('AI_EMNIST OCR.h5')"
   ]
  },
  {
   "cell_type": "markdown",
   "metadata": {},
   "source": [
    "### Load & Test the model"
   ]
  },
  {
   "cell_type": "code",
   "execution_count": 27,
   "metadata": {},
   "outputs": [
    {
     "name": "stdout",
     "output_type": "stream",
     "text": [
      "Model: \"sequential\"\n",
      "_________________________________________________________________\n",
      "Layer (type)                 Output Shape              Param #   \n",
      "=================================================================\n",
      "dense (Dense)                (None, 240)               188400    \n",
      "_________________________________________________________________\n",
      "dense_1 (Dense)              (None, 124)               29884     \n",
      "_________________________________________________________________\n",
      "dense_2 (Dense)              (None, 64)                8000      \n",
      "_________________________________________________________________\n",
      "dense_3 (Dense)              (None, 88799)             5771935   \n",
      "=================================================================\n",
      "Total params: 5,998,219\n",
      "Trainable params: 5,998,219\n",
      "Non-trainable params: 0\n",
      "_________________________________________________________________\n"
     ]
    }
   ],
   "source": [
    "from tensorflow.keras.models import load_model\n",
    "\n",
    "loaded_model = load_model('AI_EMNIST OCR.h5')\n",
    "loaded_model.summary()"
   ]
  },
  {
   "cell_type": "code",
   "execution_count": 28,
   "metadata": {},
   "outputs": [
    {
     "name": "stdout",
     "output_type": "stream",
     "text": [
      "14799/14799 [==============================] - 30s 2ms/sample - loss: 0.1477 - accuracy: 0.9717\n",
      "Accuracy of the model:  0.97168726\n"
     ]
    },
    {
     "data": {
      "text/plain": [
       "[0.14772727688634382, 0.97168726]"
      ]
     },
     "execution_count": 28,
     "metadata": {},
     "output_type": "execute_result"
    }
   ],
   "source": [
    "Testing(loaded_model,X_test,Y_test)"
   ]
  },
  {
   "cell_type": "markdown",
   "metadata": {},
   "source": [
    "### Visualize Test Data"
   ]
  },
  {
   "cell_type": "code",
   "execution_count": 29,
   "metadata": {},
   "outputs": [
    {
     "data": {
      "image/png": "[encoded data removed]",
      "text/plain": [
       "<Figure size 432x288 with 2 Axes>"
      ]
     },
     "metadata": {
      "needs_background": "light"
     },
     "output_type": "display_data"
    },
    {
     "name": "stdout",
     "output_type": "stream",
     "text": [
      "Label of image \"1785\" = C\n"
     ]
    }
   ],
   "source": [
    "ex = 1785\n",
    "image = X_test[ex]\n",
    "label = Decode_label(y_test_orig[ex])\n",
    "def fit_rotate(image):\n",
    "    image = image.reshape(28, 28)\n",
    "    image = np.fliplr(image)\n",
    "    image = np.rot90(image)\n",
    "    return image\n",
    "\n",
    "plt.imshow(fit_rotate(image), cmap= 'gray')\n",
    "plt.colorbar()\n",
    "plt.show()\n",
    "print('Label of image \"%d\" = %s' % (ex, labels[label]))"
   ]
  },
  {
   "cell_type": "code",
   "execution_count": 30,
   "metadata": {},
   "outputs": [
    {
     "data": {
      "image/png": "[encoded data removed]",
      "text/plain": [
       "<Figure size 576x324 with 2 Axes>"
      ]
     },
     "metadata": {
      "needs_background": "light"
     },
     "output_type": "display_data"
    },
    {
     "data": {
      "image/png": "[encoded data removed]",
      "text/plain": [
       "<Figure size 576x324 with 2 Axes>"
      ]
     },
     "metadata": {
      "needs_background": "light"
     },
     "output_type": "display_data"
    },
    {
     "data": {
      "image/png": "[encoded data removed]",
      "text/plain": [
       "<Figure size 576x324 with 2 Axes>"
      ]
     },
     "metadata": {
      "needs_background": "light"
     },
     "output_type": "display_data"
    },
    {
     "data": {
      "image/png": "[encoded data removed]",
      "text/plain": [
       "<Figure size 576x324 with 2 Axes>"
      ]
     },
     "metadata": {
      "needs_background": "light"
     },
     "output_type": "display_data"
    }
   ],
   "source": [
    "# A few random samples\n",
    "use_samples = [5, 38, 3939, 13389]\n",
    "samples_to_predict = []\n",
    "\n",
    "for sample in use_samples :\n",
    "    fig = plt.figure(figsize=(8,4.5))\n",
    "    fig.add_subplot(2,2,1)\n",
    "    reshaped_image = X_test[sample].reshape((28, 28))\n",
    "    plt.imshow(fit_rotate(reshaped_image), cmap= 'gray')\n",
    "    plt.axis('off')\n",
    "    plt.colorbar()\n",
    "    plt.show()\n",
    "  # Add sample to array for prediction\n",
    "samples_to_predict.append(X_test[sample])"
   ]
  },
  {
   "cell_type": "code",
   "execution_count": 31,
   "metadata": {},
   "outputs": [
    {
     "data": {
      "image/png": "[encoded data removed]",
      "text/plain": [
       "<Figure size 576x324 with 10 Axes>"
      ]
     },
     "metadata": {
      "needs_background": "light"
     },
     "output_type": "display_data"
    }
   ],
   "source": [
    "# A few random samples\n",
    "use_samples = [1995, 38, 12566, 13389,1336]\n",
    "samples_to_predict = []\n",
    "\n",
    "fig = plt.figure(figsize=(8,4.5))\n",
    "for i in range(5):\n",
    "    fig.add_subplot(2,3,i+1)\n",
    "    plt.axis('off')\n",
    "    X_test_img = X_test.reshape(X_test.shape[0], 28, 28, 1)\n",
    "    Plot_img(np.squeeze(X_test_img[use_samples[i]],), y_test_orig[use_samples[i]],use_samples[i])\n",
    "    plt.colorbar()\n",
    "plt.subplots_adjust(wspace=0.3, hspace=0.3)\n",
    "samples_to_predict.append(X_test[use_samples[i]])\n"
   ]
  },
  {
   "cell_type": "code",
   "execution_count": 32,
   "metadata": {},
   "outputs": [
    {
     "name": "stdout",
     "output_type": "stream",
     "text": [
      "(1, 784)\n"
     ]
    }
   ],
   "source": [
    "samples_to_predict = np.array(samples_to_predict)\n",
    "print(samples_to_predict.shape)"
   ]
  },
  {
   "cell_type": "code",
   "execution_count": 33,
   "metadata": {},
   "outputs": [
    {
     "name": "stdout",
     "output_type": "stream",
     "text": [
      "[[9.5621312e-01 4.3786895e-02 1.3812800e-14 ... 1.2259446e-14\n",
      "  1.3202281e-14 1.4771928e-14]]\n"
     ]
    }
   ],
   "source": [
    "# Generate predictions for the samples\n",
    "pr = loaded_model.predict(samples_to_predict)\n",
    "print(pr)"
   ]
  },
  {
   "cell_type": "code",
   "execution_count": null,
   "metadata": {},
   "outputs": [],
   "source": [
    "#testing train \n",
    "import matplotlib.pyplot as plt\n",
    "%matplotlib tk\n",
    "fig , ax = plt.subplots()\n",
    "for x in range(X_train.shape[0]):\n",
    "    ax.clear()\n",
    "    ax.imshow([i for i in 255 - X_train.reshape(88799,28,28)[x].T],cmap='gray')\n",
    "    label = Decode_label(y_train_orig[x])\n",
    "    title = 'lable = %d = %s' % (label,labels[label])\n",
    "    ax.set_title(title, fontsize=20)\n",
    "    plt.pause(1)"
   ]
  },
  {
   "cell_type": "code",
   "execution_count": null,
   "metadata": {},
   "outputs": [],
   "source": []
  }
 ],
 "metadata": {
  "kernelspec": {
   "display_name": "Python 3",
   "language": "python",
   "name": "python3"
  },
  "language_info": {
   "codemirror_mode": {
    "name": "ipython",
    "version": 3
   },
   "file_extension": ".py",
   "mimetype": "text/x-python",
   "name": "python",
   "nbconvert_exporter": "python",
   "pygments_lexer": "ipython3",
   "version": "3.7.4"
  }
 },
 "nbformat": 4,
 "nbformat_minor": 5
}
